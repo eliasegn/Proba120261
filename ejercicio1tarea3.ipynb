{
  "nbformat": 4,
  "nbformat_minor": 0,
  "metadata": {
    "colab": {
      "provenance": []
    },
    "kernelspec": {
      "name": "python3",
      "display_name": "Python 3"
    },
    "language_info": {
      "name": "python"
    }
  },
  "cells": [
    {
      "cell_type": "markdown",
      "source": [
        "# Reto\n",
        "Se lanza un par de dados hasta que la suma de ambos dados es 5 o es 7. Calcula\n",
        "\n",
        "$$\\mathbb{P}(\\text{la suma de los dados sea 5 antes de que la suma de los dados sea 7}).$$"
      ],
      "metadata": {
        "id": "SzMQMA9GcWTo"
      }
    },
    {
      "cell_type": "code",
      "source": [
        "import random\n",
        "N = 100000\n",
        "contador = 0\n",
        "for i in range(N):\n",
        "  while True:\n",
        "    dado1 = random.randint(1,6)\n",
        "    dado2 = random.randint(1,6)\n",
        "    suma = dado1 + dado2\n",
        "    if suma == 5 or suma == 7:\n",
        "      if suma == 5:\n",
        "        contador += 1\n",
        "        break\n",
        "      else:\n",
        "        break\n",
        "print('Una aproximación a la probabilidad es:', contador/ N)"
      ],
      "metadata": {
        "colab": {
          "base_uri": "https://localhost:8080/"
        },
        "id": "FSe_S8Ur1ISN",
        "outputId": "cf933bb0-4365-453b-e3b6-2baa2c6e04bc"
      },
      "execution_count": 2,
      "outputs": [
        {
          "output_type": "stream",
          "name": "stdout",
          "text": [
            "Una aproximación a la probabilidad es: 0.40029\n"
          ]
        }
      ]
    }
  ]
}