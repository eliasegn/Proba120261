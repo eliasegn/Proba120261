{
  "nbformat": 4,
  "nbformat_minor": 0,
  "metadata": {
    "colab": {
      "provenance": []
    },
    "kernelspec": {
      "name": "python3",
      "display_name": "Python 3"
    },
    "language_info": {
      "name": "python"
    }
  },
  "cells": [
    {
      "cell_type": "markdown",
      "source": [
        "# Reto\n",
        "Se lanza un par de dados hasta que la suma de ambos dados es 5 o es 7. Calcula\n",
        "\n",
        "$$\\mathbb{P}(\\text{la suma de los dados sea 5 antes de que la suma de los dados sea 7}).$$"
      ],
      "metadata": {
        "id": "SzMQMA9GcWTo"
      }
    },
    {
      "cell_type": "markdown",
      "source": [
        "¿Cómo lo harías?"
      ],
      "metadata": {
        "id": "5-QX4LYYckK4"
      }
    }
  ]
}