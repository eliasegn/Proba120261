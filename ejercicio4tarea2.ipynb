{
  "nbformat": 4,
  "nbformat_minor": 0,
  "metadata": {
    "colab": {
      "provenance": []
    },
    "kernelspec": {
      "name": "python3",
      "display_name": "Python 3"
    },
    "language_info": {
      "name": "python"
    }
  },
  "cells": [
    {
      "cell_type": "markdown",
      "source": [
        "# Ejemplos de la tarea\n",
        "\n",
        "Un profesor da a su clase un conjunto de 10 ejercicios con la informaci ́on de que 5 de ellos ser ́an escogidos aleatoriamente para ser parte del examen final. Si un estudiante está pensando en solo preparar 7 preguntas de la lista, ¿cu ́al es la probabilidad de que conteste correctamente\n",
        "(a) 5 ejercicios del examen final?.\n",
        "(b) al menos 4 problemas del examen final?."
      ],
      "metadata": {
        "id": "jWa6_yDZnK1F"
      }
    },
    {
      "cell_type": "code",
      "source": [
        "import numpy as np\n",
        "import matplotlib.pyplot as plt\n",
        "import random\n",
        "import pandas as pd\n",
        "\n",
        "ejercicios = [1,2,3,4,5,6,7,8,9,10] # número de ejercicios\n",
        "N = 100000 # número de iteraciones\n",
        "indicadora = 0 # contador\n",
        "\n",
        "for i in range(N):\n",
        "  estudiados = random.sample(ejercicios, 7)\n",
        "  elegidos = random.sample(ejercicios, 5)\n",
        "  # Calculamos el cardinal de la intersección\n",
        "  bien = len(set(estudiados) & set(elegidos))\n",
        "  if bien == 4 or bien == 5: # Si el cardinal es 4 o 5, agregamos\n",
        "      indicadora += 1\n",
        "\n",
        "print(indicadora/N)"
      ],
      "metadata": {
        "colab": {
          "base_uri": "https://localhost:8080/"
        },
        "id": "bQs2vjnUoZMB",
        "outputId": "fef556e4-16c0-499e-96b4-3dfef8a8b080"
      },
      "execution_count": 32,
      "outputs": [
        {
          "output_type": "stream",
          "name": "stdout",
          "text": [
            "0.49866\n"
          ]
        }
      ]
    },
    {
      "cell_type": "markdown",
      "source": [
        "¿Cómo calculamos la probabilidad de que acierte en 4 problemas de su examen?\n",
        "\n",
        "Ajusta el código"
      ],
      "metadata": {
        "id": "CzDyLF3hrwXK"
      }
    },
    {
      "cell_type": "code",
      "execution_count": null,
      "metadata": {
        "id": "IcHclfPInIsn"
      },
      "outputs": [],
      "source": []
    },
    {
      "cell_type": "markdown",
      "source": [
        "### Ejercicio 5\n",
        "\n",
        "Una urna tiene seis bolas rojas, dos verdes y nueve blancas.\n",
        "\n",
        "a) Se sacan cuatro. ¿Cuál es la probabilidad de tener al menos una de cada color?"
      ],
      "metadata": {
        "id": "HEHp9azN0sao"
      }
    },
    {
      "cell_type": "code",
      "source": [
        "urna = ['r', 'r', 'r', 'r', 'r', 'r', 'v', 'v', 'n', 'n', 'n', 'n', 'n', 'n', 'n', 'n', 'n']\n",
        "N = 10000000\n",
        "contador = 0\n",
        "for i in range(N):\n",
        "  experimento = random.sample(urna, 4)\n",
        "  if all(i in experimento for i in ['r', 'v', 'n']):\n",
        "    contador += 1\n",
        "\n",
        "print('Una aproximación a la probabilidad es:', contador/N)"
      ],
      "metadata": {
        "colab": {
          "base_uri": "https://localhost:8080/"
        },
        "id": "z4xmzcO902fF",
        "outputId": "5a56da70-1aa5-4342-cbdb-087b62b3f877"
      },
      "execution_count": 56,
      "outputs": [
        {
          "output_type": "stream",
          "name": "stdout",
          "text": [
            "Una aproximación a la probabilidad es: 0.3177439\n"
          ]
        }
      ]
    },
    {
      "cell_type": "markdown",
      "source": [
        "¿Cómo escribirían b) y c)?"
      ],
      "metadata": {
        "id": "08pkeDwJ4B7v"
      }
    }
  ]
}
