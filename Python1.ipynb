{
  "nbformat": 4,
  "nbformat_minor": 0,
  "metadata": {
    "colab": {
      "provenance": []
    },
    "kernelspec": {
      "name": "python3",
      "display_name": "Python 3"
    },
    "language_info": {
      "name": "python"
    }
  },
  "cells": [
    {
      "cell_type": "markdown",
      "source": [
        "# Python\n",
        "En Python podemos hacer operaciones y tenemos varios tipos de variables."
      ],
      "metadata": {
        "id": "3N8OhIcrWqhO"
      }
    },
    {
      "cell_type": "code",
      "source": [
        "x = 3 # integers\n",
        "y = 9.812 # float\n",
        "z = 'Hola' # string"
      ],
      "metadata": {
        "id": "Q531eO4RWyWx"
      },
      "execution_count": 2,
      "outputs": []
    },
    {
      "cell_type": "markdown",
      "source": [
        "Podemos sumar, restar, multiplicar y dividir integers y floats de cualquier forma"
      ],
      "metadata": {
        "id": "LvTcWdrdW4um"
      }
    },
    {
      "cell_type": "code",
      "execution_count": 3,
      "metadata": {
        "colab": {
          "base_uri": "https://localhost:8080/"
        },
        "id": "rMrNS_OyTn4n",
        "outputId": "2f64821b-9431-4fc0-b787-815ee19e864c"
      },
      "outputs": [
        {
          "output_type": "stream",
          "name": "stdout",
          "text": [
            "12.812\n",
            "-6.811999999999999\n",
            "29.436\n",
            "0.30574806359559725\n"
          ]
        }
      ],
      "source": [
        "print(x + y)\n",
        "print(x - y)\n",
        "print(x * y)\n",
        "print(x / y)"
      ]
    },
    {
      "cell_type": "markdown",
      "source": [
        "Si sumo dos strings, los concatena"
      ],
      "metadata": {
        "id": "JzL0t_7GXbfD"
      }
    },
    {
      "cell_type": "code",
      "source": [
        "z + '¿Cómo estás?'"
      ],
      "metadata": {
        "colab": {
          "base_uri": "https://localhost:8080/",
          "height": 36
        },
        "id": "kHJhgpMmXdXz",
        "outputId": "0368087a-a1f7-4d68-d4d9-49605208aae3"
      },
      "execution_count": 9,
      "outputs": [
        {
          "output_type": "execute_result",
          "data": {
            "text/plain": [
              "'Hola¿Cómo estás?'"
            ],
            "application/vnd.google.colaboratory.intrinsic+json": {
              "type": "string"
            }
          },
          "metadata": {},
          "execution_count": 9
        }
      ]
    },
    {
      "cell_type": "markdown",
      "source": [
        "# Condicionales\n",
        "Como en los lenguajes de programación habituales, tenemos una noción de condicionales. Para esot, usaremos las palabras if, elif, else"
      ],
      "metadata": {
        "id": "O8Qgds2oXqyR"
      }
    },
    {
      "cell_type": "code",
      "source": [
        "altura = float(input('¿Cuál es tu altura? '))\n",
        "peso = float(input('¿Cuál es tu peso? '))\n",
        "IMC = peso / altura**2\n",
        "\n",
        "if IMC < 18.5:\n",
        "    print(f'{IMC}: Bajo peso')\n",
        "elif IMC < 25:\n",
        "    print(f'{IMC}: Normal')\n",
        "elif IMC < 30:\n",
        "    print(f'{IMC}: Sobrepeso')\n",
        "else:\n",
        "    print(f'{IMC}: Obesidad')"
      ],
      "metadata": {
        "colab": {
          "base_uri": "https://localhost:8080/"
        },
        "id": "sldLNqVVX2d4",
        "outputId": "c611be8f-25b6-4e81-ae5a-235a3186f4f3"
      },
      "execution_count": 18,
      "outputs": [
        {
          "output_type": "stream",
          "name": "stdout",
          "text": [
            "¿Cuál es tu altura? 1.76\n",
            "¿Cuál es tu peso? 77\n",
            "24.857954545454547: Normal\n"
          ]
        }
      ]
    },
    {
      "cell_type": "markdown",
      "source": [
        "Para el if, siempre usamos algo que sea booleano"
      ],
      "metadata": {
        "id": "0eWubeYGYRhw"
      }
    },
    {
      "cell_type": "code",
      "source": [
        "x = 9\n",
        "if x == 8:\n",
        "  print('x es igual a 8')\n",
        "elif x > 8:\n",
        "  print('x es mayor a 8')\n",
        "else:\n",
        "  print('x es menor a 8')"
      ],
      "metadata": {
        "colab": {
          "base_uri": "https://localhost:8080/"
        },
        "id": "KVhaRRG8YTre",
        "outputId": "181f2cfa-11d3-4369-ab4a-b2d3fd9f00c7"
      },
      "execution_count": 19,
      "outputs": [
        {
          "output_type": "stream",
          "name": "stdout",
          "text": [
            "x es mayor a 8\n"
          ]
        }
      ]
    },
    {
      "cell_type": "markdown",
      "source": [
        "Booleanos comunes son <, >, ==, !=, True, False"
      ],
      "metadata": {
        "id": "d-ERGCiTYZap"
      }
    },
    {
      "cell_type": "code",
      "source": [
        "if True:\n",
        "  print('Felicidades, has tenido suerte')"
      ],
      "metadata": {
        "colab": {
          "base_uri": "https://localhost:8080/"
        },
        "id": "NZ6DDpeYYhFv",
        "outputId": "80ca990c-32ec-4c41-bf0d-987f3d34a946"
      },
      "execution_count": 21,
      "outputs": [
        {
          "output_type": "stream",
          "name": "stdout",
          "text": [
            "Felicidades, has tenido suerte\n"
          ]
        }
      ]
    },
    {
      "cell_type": "markdown",
      "source": [
        "### Listas"
      ],
      "metadata": {
        "id": "5MRLInQDXMrL"
      }
    },
    {
      "cell_type": "code",
      "source": [
        "lista1 = [1,2,3]\n",
        "print(lista1)"
      ],
      "metadata": {
        "colab": {
          "base_uri": "https://localhost:8080/"
        },
        "id": "6XXfqlbrXTvZ",
        "outputId": "62452531-3f7b-4528-ee57-edbc1ed8bff5"
      },
      "execution_count": 5,
      "outputs": [
        {
          "output_type": "stream",
          "name": "stdout",
          "text": [
            "[1, 2, 3]\n"
          ]
        }
      ]
    },
    {
      "cell_type": "code",
      "source": [
        "lista2 = ['a','b','c']\n",
        "print(lista2)"
      ],
      "metadata": {
        "colab": {
          "base_uri": "https://localhost:8080/"
        },
        "id": "1XQQNj_AXW6f",
        "outputId": "ac4c3e4f-b51f-42dc-b495-ff1eb5c1f30b"
      },
      "execution_count": 6,
      "outputs": [
        {
          "output_type": "stream",
          "name": "stdout",
          "text": [
            "['a', 'b', 'c']\n"
          ]
        }
      ]
    },
    {
      "cell_type": "code",
      "source": [
        "lista3 = [1,2,'a','b']\n",
        "print(lista3)"
      ],
      "metadata": {
        "colab": {
          "base_uri": "https://localhost:8080/"
        },
        "id": "QfoFXj6sXX--",
        "outputId": "6ca54572-ac7d-4239-b09f-527ff5f8b8b6"
      },
      "execution_count": 7,
      "outputs": [
        {
          "output_type": "stream",
          "name": "stdout",
          "text": [
            "[1, 2, 'a', 'b']\n"
          ]
        }
      ]
    },
    {
      "cell_type": "markdown",
      "source": [
        "Si sumo dos listas, las concatena"
      ],
      "metadata": {
        "id": "vocKosJUXf7o"
      }
    },
    {
      "cell_type": "code",
      "source": [
        "lista4 = lista1 + lista2\n",
        "print(lista4)"
      ],
      "metadata": {
        "colab": {
          "base_uri": "https://localhost:8080/"
        },
        "id": "qWtJevrrXZM1",
        "outputId": "5580ae76-258e-45f2-d571-237f7e5d7315"
      },
      "execution_count": 8,
      "outputs": [
        {
          "output_type": "stream",
          "name": "stdout",
          "text": [
            "[1, 2, 3, 'a', 'b', 'c']\n"
          ]
        }
      ]
    },
    {
      "cell_type": "code",
      "source": [
        "lista5 = [[1,2,'hola'], 45, 90.132]\n",
        "print(lista5)"
      ],
      "metadata": {
        "colab": {
          "base_uri": "https://localhost:8080/"
        },
        "id": "cqTx7wS7XhwD",
        "outputId": "ffad2d20-e4aa-4620-c1d4-769219407ed0"
      },
      "execution_count": 11,
      "outputs": [
        {
          "output_type": "stream",
          "name": "stdout",
          "text": [
            "[[1, 2, 'hola'], 45, 90.132]\n"
          ]
        }
      ]
    },
    {
      "cell_type": "markdown",
      "source": [
        "Podemos usar loops para iterar sobre listas (esto se ve mejor en el curso de Data Camp)."
      ],
      "metadata": {
        "id": "q28aruTYYkdt"
      }
    },
    {
      "cell_type": "code",
      "source": [
        "for palabra in ['hola', 'me', 'llamo', 'ana']:\n",
        "  print(palabra)"
      ],
      "metadata": {
        "colab": {
          "base_uri": "https://localhost:8080/"
        },
        "id": "-FvW0jPrY-rA",
        "outputId": "4967b2e3-38f8-4306-b592-2c8f823dbc7f"
      },
      "execution_count": 24,
      "outputs": [
        {
          "output_type": "stream",
          "name": "stdout",
          "text": [
            "hola\n",
            "me\n",
            "llamo\n",
            "ana\n"
          ]
        }
      ]
    },
    {
      "cell_type": "markdown",
      "source": [
        "Una lista importante es range(n)"
      ],
      "metadata": {
        "id": "dHhpauZXZIyl"
      }
    },
    {
      "cell_type": "code",
      "source": [
        "n = int(input('¿Hasta dónde quieres llegar? '))\n",
        "lista = range(n) # Es la lista [0,1,...,n-1]\n",
        "for i in range(n):\n",
        "  print(i+1)"
      ],
      "metadata": {
        "colab": {
          "base_uri": "https://localhost:8080/"
        },
        "id": "c2GdZZaMYph_",
        "outputId": "c6afb7c0-074d-4eb3-a5bd-0398e6efd2e9"
      },
      "execution_count": 23,
      "outputs": [
        {
          "output_type": "stream",
          "name": "stdout",
          "text": [
            "¿Hasta dónde quieres llegar? 10\n",
            "1\n",
            "2\n",
            "3\n",
            "4\n",
            "5\n",
            "6\n",
            "7\n",
            "8\n",
            "9\n",
            "10\n"
          ]
        }
      ]
    },
    {
      "cell_type": "markdown",
      "source": [
        "¿Para qué más podemos usar un loop?"
      ],
      "metadata": {
        "id": "dFwE8-pLY3LY"
      }
    },
    {
      "cell_type": "markdown",
      "source": [
        "### Funciones\n",
        "\n",
        "La notación para escribir funciones en Python es así\n",
        "\n",
        "def (nombre de la función):\n",
        "\n",
        "'''\n",
        "Procedimiento\n",
        "'''\n",
        "\n",
        "return()"
      ],
      "metadata": {
        "id": "cMG517O-ZJwh"
      }
    },
    {
      "cell_type": "code",
      "source": [
        "def cuadrado(x,n):\n",
        "  return x**n"
      ],
      "metadata": {
        "id": "Ja0Jmv_EZ2Na"
      },
      "execution_count": 25,
      "outputs": []
    },
    {
      "cell_type": "code",
      "source": [
        "cuadrado(2, 12)"
      ],
      "metadata": {
        "colab": {
          "base_uri": "https://localhost:8080/"
        },
        "id": "P6J5MHfbZ6Gb",
        "outputId": "d45647ee-6e09-4d72-bce3-ed29955adcc3"
      },
      "execution_count": 26,
      "outputs": [
        {
          "output_type": "execute_result",
          "data": {
            "text/plain": [
              "4096"
            ]
          },
          "metadata": {},
          "execution_count": 26
        }
      ]
    },
    {
      "cell_type": "markdown",
      "source": [
        "Veamos el ejemplo de la clase pasada"
      ],
      "metadata": {
        "id": "0ODCUWHKaLwc"
      }
    },
    {
      "cell_type": "code",
      "source": [
        "import random\n",
        "\n",
        "def ej4(k):\n",
        "  ejercicios = [1,2,3,4,5,6,7,8,9,10]\n",
        "  N = 100000 #numero de iteraciones\n",
        "  indicadora = 0 #contador\n",
        "\n",
        "  for i in range(N):\n",
        "    estudiados = random.sample(ejercicios, 7)\n",
        "    elegidos = random.sample(ejercicios,5)\n",
        "    bien = len(set(estudiados) & set(elegidos))\n",
        "\n",
        "    if bien == k :\n",
        "      indicadora=indicadora+1\n",
        "\n",
        "  return indicadora / N"
      ],
      "metadata": {
        "id": "3AUFyUQkaNK-"
      },
      "execution_count": 29,
      "outputs": []
    },
    {
      "cell_type": "code",
      "source": [
        "ej4(4) + ej4(5)"
      ],
      "metadata": {
        "colab": {
          "base_uri": "https://localhost:8080/"
        },
        "id": "55tvQsw6annB",
        "outputId": "7e8fc104-674b-4786-9796-53c3adcf7891"
      },
      "execution_count": 30,
      "outputs": [
        {
          "output_type": "execute_result",
          "data": {
            "text/plain": [
              "0.5012099999999999"
            ]
          },
          "metadata": {},
          "execution_count": 30
        }
      ]
    }
  ]
}